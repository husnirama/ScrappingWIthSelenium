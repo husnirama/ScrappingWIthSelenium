{
 "cells": [
  {
   "cell_type": "code",
   "execution_count": 1,
   "metadata": {},
   "outputs": [],
   "source": [
    "from selenium import webdriver\n",
    "import pandas as pd\n",
    "import os\n",
    "import itertools\n",
    "import time\n",
    "import numpy as np\n",
    "from datetime import datetime\n",
    "\n",
    "import email, smtplib, ssl\n",
    "\n",
    "from email import encoders\n",
    "from email.mime.base import MIMEBase\n",
    "from email.mime.multipart import MIMEMultipart\n",
    "from email.mime.text import MIMEText"
   ]
  },
  {
   "cell_type": "code",
   "execution_count": 2,
   "metadata": {},
   "outputs": [],
   "source": [
    "url = \"https://www.airasia.com/en/gclassb?gclid=Cj0KCQjwqs3rBRCdARIsADe1pfTS--d9aS2CI6oV__jWRsi9BwHq3SRP_Fbz9xMOsT4yIXPRrCqTMGYaAvGTEALw_wcB&gclsrc=aw.ds\""
   ]
  },
  {
   "cell_type": "code",
   "execution_count": 3,
   "metadata": {},
   "outputs": [],
   "source": [
    "path = os.getcwd()+'/geckodriver'\n",
    "driver = webdriver.Firefox(executable_path=path)\n",
    "driver.get(url)\n",
    "time.sleep(10)"
   ]
  },
  {
   "cell_type": "code",
   "execution_count": 4,
   "metadata": {},
   "outputs": [],
   "source": [
    "def getflightplan():\n",
    "    allplandc = driver.find_elements_by_class_name('product-widget-item')\n",
    "    nextbutton = driver.find_element_by_class_name('product-widget-arrows.product-widget-arrow-right.ng-star-inserted')\n",
    "    flight = []\n",
    "    for i in range(7):    \n",
    "        try :\n",
    "            for plan in allplandc:\n",
    "                if plan.text != '':\n",
    "                    if 'hotel' not in plan.text and len(plan.text.split('\\n'))!=2:\n",
    "                        flight.append(plan.text)\n",
    "                else:\n",
    "                    pass\n",
    "            nextbutton.click()\n",
    "            time.sleep(3)\n",
    "        except Exception as e:\n",
    "            pass\n",
    "    \n",
    "    return flight\n",
    "    \n",
    "def cleanflight():\n",
    "    data = getflightplan()\n",
    "    keren = []\n",
    "    for asu in data:\n",
    "        if 'destination' in asu:\n",
    "            keren.append(asu.split('\\n')[1:])\n",
    "        elif asu == '':\n",
    "            pass\n",
    "        else:\n",
    "            keren.append(asu.split('\\n'))\n",
    "    df = pd.DataFrame(keren, columns = ['destination','time','price'])\n",
    "    df = df.drop_duplicates()\n",
    "    df['departure'] = 'Jakarta'\n",
    "    \n",
    "    now = datetime.now()\n",
    "    date_time = now.strftime(\"%m-%d-%Y\")\n",
    "    df['datecreated'] = date_time\n",
    "    return df\n",
    "\n",
    "def sendemail(receiver):\n",
    "    subject = \"List Promosi Flight AirAsia\"\n",
    "    message = \"\"\"\\\n",
    "    Subject: Dear Subscriber,\n",
    "\n",
    "    Berikut terlampir file excel list promo flight AirAsia.\n",
    "    Silahkan email untuk request list promo lainnya :)\n",
    "\n",
    "    Terimakasih\n",
    "\n",
    "    Regards,\n",
    "\n",
    "\n",
    "    ScrapperHunter\"\"\"\n",
    "    body = message\n",
    "    sender_email = \"bambangmodjo31@gmail.com\"\n",
    "    receiver_email = receiver\n",
    "    password = \"Prabowo.sandi02\"\n",
    "\n",
    "    # Create a multipart message and set headers\n",
    "    message = MIMEMultipart()\n",
    "    message[\"From\"] = sender_email\n",
    "    message[\"To\"] = receiver_email\n",
    "    message[\"Subject\"] = subject\n",
    "\n",
    "\n",
    "    # Add body to email\n",
    "    message.attach(MIMEText(body, \"plain\"))\n",
    "\n",
    "    filename = \"/home/husnirama/python_project_dir/List_Promo_AirAsia.xlsx\"  # In same directory as script\n",
    "\n",
    "    # Open PDF file in binary mode\n",
    "    with open(filename, \"rb\") as attachment:\n",
    "        # Add file as application/octet-stream\n",
    "        # Email client can usually download this automatically as attachment\n",
    "        part = MIMEBase(\"application\", \"octet-stream\")\n",
    "        part.set_payload(attachment.read())\n",
    "\n",
    "    # Encode file in ASCII characters to send by email    \n",
    "    encoders.encode_base64(part)\n",
    "\n",
    "    # Add header as key/value pair to attachment part\n",
    "    part.add_header(\n",
    "        \"Content-Disposition\",\n",
    "        f\"attachment; filename= {filename}\",\n",
    "    )\n",
    "\n",
    "    # Add attachment to message and convert message to string\n",
    "    message.attach(part)\n",
    "    text = message.as_string()\n",
    "\n",
    "    # Log in to server using secure context and send email\n",
    "    context = ssl.create_default_context()\n",
    "    with smtplib.SMTP_SSL(\"smtp.gmail.com\", 465, context=context) as server:\n",
    "        server.login(sender_email, password)\n",
    "        server.sendmail(sender_email, receiver_email, text)\n",
    "    return (\"mail sent!\")"
   ]
  },
  {
   "cell_type": "code",
   "execution_count": 5,
   "metadata": {},
   "outputs": [],
   "source": [
    "res = cleanflight()\n",
    "driver.quit()"
   ]
  },
  {
   "cell_type": "code",
   "execution_count": 6,
   "metadata": {},
   "outputs": [],
   "source": [
    "url = \"https://www.airasiabig.com/my/en/earn-redeem\"\n",
    "driver = webdriver.Firefox(executable_path=r'/home/husnirama/python_project_dir/geckodriver')\n",
    "driver.get(url)\n",
    "time.sleep(10)\n",
    "\n",
    "btn = driver.find_element_by_class_name('button.is-paddingmedium.txt-red.medium09')\n",
    "btn.click()\n",
    "time.sleep(5)"
   ]
  },
  {
   "cell_type": "code",
   "execution_count": 7,
   "metadata": {},
   "outputs": [],
   "source": [
    "def getdf():\n",
    "    flights = driver.find_elements_by_class_name('has-text-left')\n",
    "    points = driver.find_elements_by_class_name('has-text-right')\n",
    "    redeemtime = driver.find_elements_by_class_name('is-hidden-mobile')\n",
    "    \n",
    "    start = []\n",
    "    end =[]\n",
    "    pts = []\n",
    "    for plan in flights:\n",
    "        if plan.text!='':\n",
    "            start.append(plan.text.split('\\n')[0])\n",
    "            if len(plan.text.split('\\n'))>1:\n",
    "                end.append(plan.text.split('\\n')[1])\n",
    "\n",
    "    for plan in points:\n",
    "        if plan.text!='':\n",
    "            pts.append(plan.text.split('\\n')[0])\n",
    "            \n",
    "    for redeem in redeemtime:\n",
    "        if 'redemption' in redeem.text.lower():\n",
    "            rdm = redeem.text.split('|')\n",
    "    \n",
    "    df = pd.DataFrame({'destination' : end[1:], 'departurecode' : start[3:], 'pts' : pts})\n",
    "    df['pts'] = np.where(df['pts'].str[-3:]=='pts', df['pts'].str[:-4], df['pts'])\n",
    "    \n",
    "    df['redeemptiontime'] = rdm[0].split(':')[-1][1:-1]\n",
    "    df['traveltime'] = rdm[1].split(':')[-1][1:-1]\n",
    "    \n",
    "    now = datetime.now()\n",
    "    date_time = now.strftime(\"%m-%d-%Y\")\n",
    "    df['datecreated'] = date_time\n",
    "    return df\n",
    "\n",
    "def getfulldf():\n",
    "    df = getdf()\n",
    "    \n",
    "    iata = pd.read_excel('IATALIST.xlsx')\n",
    "    iata = iata[iata.columns[1:].tolist()]\n",
    "    iata.columns = ['City','Country','departurecode']\n",
    "    \n",
    "    fulldf = pd.merge(df,iata, on = ['departurecode'], how = 'left')\n",
    "    return fulldf  "
   ]
  },
  {
   "cell_type": "code",
   "execution_count": 8,
   "metadata": {},
   "outputs": [],
   "source": [
    "res2 = getfulldf()\n",
    "driver.quit()\n",
    "with pd.ExcelWriter('List_Promo_AirAsia.xlsx',index=False) as writer:  # doctest: +SKIP\n",
    "    res2.to_excel(writer, sheet_name='BIG')\n",
    "    res.to_excel(writer, sheet_name='DAILY')"
   ]
  },
  {
   "cell_type": "code",
   "execution_count": 9,
   "metadata": {},
   "outputs": [
    {
     "data": {
      "text/plain": [
       "'mail sent!'"
      ]
     },
     "execution_count": 9,
     "metadata": {},
     "output_type": "execute_result"
    }
   ],
   "source": [
    "sendemail(\"cynthia.khong@yahoo.com\")"
   ]
  }
 ],
 "metadata": {
  "kernelspec": {
   "display_name": "Python 3",
   "language": "python",
   "name": "python3"
  },
  "language_info": {
   "codemirror_mode": {
    "name": "ipython",
    "version": 3
   },
   "file_extension": ".py",
   "mimetype": "text/x-python",
   "name": "python",
   "nbconvert_exporter": "python",
   "pygments_lexer": "ipython3",
   "version": "3.6.8"
  }
 },
 "nbformat": 4,
 "nbformat_minor": 2
}
